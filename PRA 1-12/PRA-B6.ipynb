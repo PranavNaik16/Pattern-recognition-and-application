{
 "cells": [
  {
   "cell_type": "markdown",
   "id": "73c123a7-f650-4e4c-a472-5b1d3a0751b2",
   "metadata": {},
   "source": [
    "# Problem Statement 6\n",
    "## Use non-parametric K-Nearest Neighbor (KNN) techniques to classify grayscale images of shapes (e.g., circles, squares, and triangles). Evaluate and compare the classification accuracy of both methods."
   ]
  },
  {
   "cell_type": "code",
   "execution_count": 4,
   "id": "24c19975-7086-4ffb-8dcd-60215ac34564",
   "metadata": {},
   "outputs": [],
   "source": [
    "import numpy as np\n",
    "import matplotlib.pyplot as plt\n",
    "import cv2\n",
    "from sklearn.model_selection import train_test_split\n",
    "from sklearn.metrics import accuracy_score\n",
    "from sklearn.neighbors import KernelDensity, KNeighborsClassifier"
   ]
  },
  {
   "cell_type": "code",
   "execution_count": 14,
   "id": "eecf22e9-f738-4d47-8964-a848cbf8a416",
   "metadata": {},
   "outputs": [],
   "source": [
    "def generate_shape(shape, size=64):\n",
    "    img = np.zeros((size, size), dtype=np.uint8)\n",
    "    center = (size // 2, size // 2)\n",
    "    if shape == \"circle\":\n",
    "        cv2.circle(img, center, size // 3, 255, -1)\n",
    "    elif shape == \"square\":\n",
    "        cv2.rectangle(img, (size//4, size//4), (3*size//4, 3*size//4), 255, -1)\n",
    "    elif shape == \"triangle\":\n",
    "        pts = np.array([[size//2, size//5], [size//5, 4*size//5], [4*size//5, 4*size//5]], np.int32)\n",
    "        cv2.fillPoly(img, [pts], 255)\n",
    "    return img"
   ]
  },
  {
   "cell_type": "code",
   "execution_count": 16,
   "id": "1a01e7ac-1221-4149-ab27-8f35267566cc",
   "metadata": {},
   "outputs": [
    {
     "name": "stdout",
     "output_type": "stream",
     "text": [
      "Generating dataset...\n"
     ]
    }
   ],
   "source": [
    "def create_dataset(num_samples=100):\n",
    "    shapes = [\"circle\", \"square\", \"triangle\"]\n",
    "    X, y = [], []\n",
    "    for i, shape in enumerate (shapes):\n",
    "        for _ in range(num_samples):\n",
    "            img = generate_shape(shape)\n",
    "            X.append(img.flatten())\n",
    "            y.append(i)\n",
    "    return np.array (X), np.array(y)\n",
    "\n",
    "print(\"Generating dataset...\")\n",
    "X, y = create_dataset (300)"
   ]
  },
  {
   "cell_type": "code",
   "execution_count": 18,
   "id": "38e173b3-855c-43c1-a5b8-73ff25ca0dfb",
   "metadata": {},
   "outputs": [],
   "source": [
    "X_train, X_test, y_train, y_test = train_test_split(X, y, test_size=0.2, random_state=42)"
   ]
  },
  {
   "cell_type": "code",
   "execution_count": 26,
   "id": "9169aa3d-a907-4eb9-babf-dd426e8bb186",
   "metadata": {},
   "outputs": [],
   "source": [
    "parzen_kde = []\n",
    "bandwidth = 0.1 # You can tune this\n",
    "for i in range(3): # One KDE per class\n",
    "    kde = KernelDensity (kernel=\"gaussian\", bandwidth=bandwidth)\n",
    "    kde.fit(X_train[y_train== 1])\n",
    "    parzen_kde.append(kde)"
   ]
  },
  {
   "cell_type": "code",
   "execution_count": 30,
   "id": "934a54d8-0d53-4031-aa02-99ca7411af5d",
   "metadata": {},
   "outputs": [],
   "source": [
    "def parzen_predict(X):\n",
    "    scores = np.array([kde.score_samples (X) for kde in parzen_kde]).T\n",
    "    return np.argmax(scores, axis=1)\n",
    "\n",
    "y_pred_parzen = parzen_predict(X_test)\n",
    "parzen_acc = accuracy_score(y_test, y_pred_parzen)"
   ]
  },
  {
   "cell_type": "code",
   "execution_count": 32,
   "id": "8edf2984-26a7-4d97-92d8-ad1c7ecbf73e",
   "metadata": {},
   "outputs": [],
   "source": [
    "knn = KNeighborsClassifier(n_neighbors=5)\n",
    "knn.fit(X_train, y_train)\n",
    "y_pred_knn = knn.predict(X_test)\n",
    "knn_acc = accuracy_score(y_test, y_pred_knn)"
   ]
  },
  {
   "cell_type": "code",
   "execution_count": 34,
   "id": "96cdf14d-7fec-4db2-97e4-a4d4479b5749",
   "metadata": {},
   "outputs": [
    {
     "name": "stdout",
     "output_type": "stream",
     "text": [
      "Parzen-window Accuracy: 0.33\n",
      "k-NN Accuracy: 1.00\n"
     ]
    }
   ],
   "source": [
    "print(f\"Parzen-window Accuracy: {parzen_acc:.2f}\")\n",
    "print(f\"k-NN Accuracy: {knn_acc:.2f}\")"
   ]
  },
  {
   "cell_type": "code",
   "execution_count": 40,
   "id": "3ada8fe6-8dc8-4929-b8d0-5c41b5178ba0",
   "metadata": {},
   "outputs": [
    {
     "data": {
      "image/png": "[encoded data removed]",
      "text/plain": [
       "<Figure size 1000x200 with 5 Axes>"
      ]
     },
     "metadata": {},
     "output_type": "display_data"
    }
   ],
   "source": [
    "fig, axes = plt.subplots (1, 5, figsize=(10, 2))\n",
    "for i in range(5):\n",
    "    axes[i].imshow(X_test[i].reshape (64, 64), cmap=\"gray\")\n",
    "    axes[i].set_title(f\"Pred: {y_pred_parzen[i]}\")\n",
    "    axes[i].axis(\"off\")\n",
    "    plt.tight_layout()\n",
    "plt.show()"
   ]
  },
  {
   "cell_type": "code",
   "execution_count": null,
   "id": "ee2d73d3-771f-4f27-ab75-a06637fad13c",
   "metadata": {},
   "outputs": [],
   "source": []
  }
 ],
 "metadata": {
  "kernelspec": {
   "display_name": "Python 3 (ipykernel)",
   "language": "python",
   "name": "python3"
  },
  "language_info": {
   "codemirror_mode": {
    "name": "ipython",
    "version": 3
   },
   "file_extension": ".py",
   "mimetype": "text/x-python",
   "name": "python",
   "nbconvert_exporter": "python",
   "pygments_lexer": "ipython3",
   "version": "3.11.7"
  }
 },
 "nbformat": 4,
 "nbformat_minor": 5
}
