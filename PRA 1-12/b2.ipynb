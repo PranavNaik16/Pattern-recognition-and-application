{
 "cells": [
  {
   "cell_type": "code",
   "execution_count": 19,
   "id": "62423b73-e0be-49d2-9e83-b57fc0380170",
   "metadata": {},
   "outputs": [
    {
     "name": "stderr",
     "output_type": "stream",
     "text": [
      "MultinomialHMM has undergone major changes. The previous version was implementing a CategoricalHMM (a special case of MultinomialHMM). This new implementation follows the standard definition for a Multinomial distribution (e.g. as in https://en.wikipedia.org/wiki/Multinomial_distribution). See these issues for details:\n",
      "https://github.com/hmmlearn/hmmlearn/issues/335\n",
      "https://github.com/hmmlearn/hmmlearn/issues/340\n"
     ]
    },
    {
     "name": "stdout",
     "output_type": "stream",
     "text": [
      "Prediction accuracy: 0.33\n",
      "Test Sequence 1 - Predicted: 0, Actual: 1\n",
      "Test Sequence 2 - Predicted: 1, Actual: 1\n",
      "Test Sequence 3 - Predicted: 0, Actual: 1\n",
      "Test Sequence 4 - Predicted: 1, Actual: 1\n",
      "Test Sequence 5 - Predicted: 0, Actual: 1\n",
      "Test Sequence 6 - Predicted: 1, Actual: 1\n",
      "Test Sequence 7 - Predicted: 0, Actual: 1\n",
      "Test Sequence 8 - Predicted: 1, Actual: 0\n",
      "Test Sequence 9 - Predicted: 0, Actual: 1\n"
     ]
    }
   ],
   "source": [
    "import numpy as np\n",
    "from hmmlearn.hmm import MultinomialHMM\n",
    "from sklearn.model_selection import train_test_split\n",
    "\n",
    "# Sample DNA sequences (A=0, C=1, G=2, T=3)\n",
    "sequences = [\n",
    "    \"ATGCGTACG\",  # Gene region (example)\n",
    "    \"GCGTACGTG\",  # Non-gene region (example)\n",
    "    \"ATGCGTAC\",   # Gene region (example)\n",
    "    \"CGTACGTG\",   # Non-gene region (example)\n",
    "    \"ATCGGCTAG\"   # Gene region (example)\n",
    "]\n",
    "\n",
    "# Labels for each sequence: 1 for gene region, 0 for non-gene region\n",
    "labels = [1, 0, 1, 0, 1]\n",
    "\n",
    "# Map DNA bases to integers: A=0, C=1, G=2, T=3\n",
    "base_to_int = {\"A\": 0, \"C\": 1, \"G\": 2, \"T\": 3}\n",
    "\n",
    "# Convert DNA sequences to integers\n",
    "def encode_sequence(seq):\n",
    "    return [base_to_int[base] for base in seq]\n",
    "\n",
    "# Encode each sequence in the dataset\n",
    "encoded_sequences = [encode_sequence(seq) for seq in sequences]\n",
    "\n",
    "# Flatten the sequences into individual samples for HMM (each nucleotide is treated as a sample)\n",
    "X_flattened = np.concatenate([seq for seq in encoded_sequences]).reshape(-1, 1)\n",
    "\n",
    "# Prepare the labels for the flattened data\n",
    "y_flattened = np.concatenate([np.full(len(seq), label) for seq, label in zip(encoded_sequences, labels)])\n",
    "\n",
    "# Split the flattened data into training and test sets\n",
    "X_train, X_test, y_train, y_test = train_test_split(X_flattened, y_flattened, test_size=0.2, random_state=42)\n",
    "\n",
    "# Initialize MultinomialHMM\n",
    "hmm = MultinomialHMM(n_components=2, n_iter=100)\n",
    "\n",
    "# Fit the model on the training data\n",
    "hmm.fit(X_train)\n",
    "\n",
    "# Predict hidden states for the test set\n",
    "predicted_states = hmm.predict(X_test)\n",
    "\n",
    "# Accuracy: Compare predicted states with true labels\n",
    "accuracy = np.mean(predicted_states == y_test)\n",
    "print(f\"Prediction accuracy: {accuracy:.2f}\")\n",
    "\n",
    "# Print predicted vs actual labels for the test set\n",
    "for i, (pred, actual) in enumerate(zip(predicted_states, y_test)):\n",
    "    print(f\"Test Sequence {i+1} - Predicted: {pred}, Actual: {actual}\")\n"
   ]
  },
  {
   "cell_type": "code",
   "execution_count": null,
   "id": "d41506e1-eb87-44d0-a744-7489674757b9",
   "metadata": {},
   "outputs": [],
   "source": []
  }
 ],
 "metadata": {
  "kernelspec": {
   "display_name": "Python 3 (ipykernel)",
   "language": "python",
   "name": "python3"
  },
  "language_info": {
   "codemirror_mode": {
    "name": "ipython",
    "version": 3
   },
   "file_extension": ".py",
   "mimetype": "text/x-python",
   "name": "python",
   "nbconvert_exporter": "python",
   "pygments_lexer": "ipython3",
   "version": "3.11.7"
  }
 },
 "nbformat": 4,
 "nbformat_minor": 5
}
